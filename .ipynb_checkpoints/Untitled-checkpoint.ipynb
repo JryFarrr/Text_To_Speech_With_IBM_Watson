{
 "cells": [
  {
   "cell_type": "markdown",
   "id": "5df7e2a3-2ec9-4a61-9590-740faffa3a8e",
   "metadata": {},
   "source": [
    "# 1. Authenticate"
   ]
  },
  {
   "cell_type": "code",
   "execution_count": 7,
   "id": "61708e2b-6663-4897-a025-f96c9ea0ed4e",
   "metadata": {},
   "outputs": [
    {
     "name": "stdout",
     "output_type": "stream",
     "text": [
      "Collecting ibm-cloud-sdk-core==3.16.0\n",
      "  Using cached ibm_cloud_sdk_core-3.16.0-py3-none-any.whl.metadata (4.5 kB)\n",
      "Requirement already satisfied: requests<3.0.0,>=2.26.0 in c:\\programdata\\anaconda3\\lib\\site-packages (from ibm-cloud-sdk-core==3.16.0) (2.31.0)\n",
      "Collecting urllib3<2.0.0,>=1.26.0 (from ibm-cloud-sdk-core==3.16.0)\n",
      "  Using cached urllib3-1.26.19-py2.py3-none-any.whl.metadata (49 kB)\n",
      "Requirement already satisfied: python-dateutil<3.0.0,>=2.5.3 in c:\\users\\jirya\\appdata\\roaming\\python\\python311\\site-packages (from ibm-cloud-sdk-core==3.16.0) (2.8.2)\n",
      "Requirement already satisfied: PyJWT<3.0.0,>=2.4.0 in c:\\programdata\\anaconda3\\lib\\site-packages (from ibm-cloud-sdk-core==3.16.0) (2.9.0)\n",
      "Requirement already satisfied: six>=1.5 in c:\\users\\jirya\\appdata\\roaming\\python\\python311\\site-packages (from python-dateutil<3.0.0,>=2.5.3->ibm-cloud-sdk-core==3.16.0) (1.16.0)\n",
      "Requirement already satisfied: charset-normalizer<4,>=2 in c:\\programdata\\anaconda3\\lib\\site-packages (from requests<3.0.0,>=2.26.0->ibm-cloud-sdk-core==3.16.0) (2.0.4)\n",
      "Requirement already satisfied: idna<4,>=2.5 in c:\\programdata\\anaconda3\\lib\\site-packages (from requests<3.0.0,>=2.26.0->ibm-cloud-sdk-core==3.16.0) (3.4)\n",
      "Requirement already satisfied: certifi>=2017.4.17 in c:\\programdata\\anaconda3\\lib\\site-packages (from requests<3.0.0,>=2.26.0->ibm-cloud-sdk-core==3.16.0) (2024.2.2)\n",
      "Using cached ibm_cloud_sdk_core-3.16.0-py3-none-any.whl (83 kB)\n",
      "Using cached urllib3-1.26.19-py2.py3-none-any.whl (143 kB)\n",
      "Installing collected packages: urllib3, ibm-cloud-sdk-core\n",
      "  Attempting uninstall: urllib3\n",
      "    Found existing installation: urllib3 2.2.2\n",
      "    Uninstalling urllib3-2.2.2:\n",
      "      Successfully uninstalled urllib3-2.2.2\n",
      "  Attempting uninstall: ibm-cloud-sdk-core\n",
      "    Found existing installation: ibm-cloud-sdk-core 3.19.0\n",
      "    Uninstalling ibm-cloud-sdk-core-3.19.0:\n",
      "      Successfully uninstalled ibm-cloud-sdk-core-3.19.0\n",
      "Successfully installed ibm-cloud-sdk-core-3.16.0 urllib3-1.26.19\n"
     ]
    }
   ],
   "source": [
    "!pip install ibm-cloud-sdk-core==3.16.0"
   ]
  },
  {
   "cell_type": "code",
   "execution_count": 8,
   "id": "cc8ccad6-9a13-4d31-afd3-839c59638ccf",
   "metadata": {},
   "outputs": [
    {
     "name": "stdout",
     "output_type": "stream",
     "text": [
      "Requirement already satisfied: urllib3==1.26.19 in c:\\programdata\\anaconda3\\lib\\site-packages (1.26.19)\n",
      "Requirement already satisfied: jedi==0.18.2 in c:\\programdata\\anaconda3\\lib\\site-packages (0.18.2)\n",
      "Requirement already satisfied: parso<0.9.0,>=0.8.0 in c:\\users\\jirya\\appdata\\roaming\\python\\python311\\site-packages (from jedi==0.18.2) (0.8.3)\n"
     ]
    }
   ],
   "source": [
    "!pip install urllib3==1.26.19\n",
    "!pip install jedi==0.18.2"
   ]
  },
  {
   "cell_type": "code",
   "execution_count": 9,
   "id": "c77dbfd3-bd20-4746-b83b-445a9e13ab40",
   "metadata": {},
   "outputs": [
    {
     "name": "stdout",
     "output_type": "stream",
     "text": [
      "Requirement already satisfied: ibm-watson in c:\\programdata\\anaconda3\\lib\\site-packages (8.1.0)\n",
      "Requirement already satisfied: requests<3.0,>=2.0 in c:\\programdata\\anaconda3\\lib\\site-packages (from ibm-watson) (2.31.0)\n",
      "Requirement already satisfied: python-dateutil>=2.5.3 in c:\\users\\jirya\\appdata\\roaming\\python\\python311\\site-packages (from ibm-watson) (2.8.2)\n",
      "Requirement already satisfied: websocket-client>=1.1.0 in c:\\programdata\\anaconda3\\lib\\site-packages (from ibm-watson) (1.8.0)\n",
      "Requirement already satisfied: ibm-cloud-sdk-core==3.*,>=3.3.6 in c:\\programdata\\anaconda3\\lib\\site-packages (from ibm-watson) (3.16.0)\n",
      "Requirement already satisfied: urllib3<2.0.0,>=1.26.0 in c:\\programdata\\anaconda3\\lib\\site-packages (from ibm-cloud-sdk-core==3.*,>=3.3.6->ibm-watson) (1.26.19)\n",
      "Requirement already satisfied: PyJWT<3.0.0,>=2.4.0 in c:\\programdata\\anaconda3\\lib\\site-packages (from ibm-cloud-sdk-core==3.*,>=3.3.6->ibm-watson) (2.9.0)\n",
      "Requirement already satisfied: six>=1.5 in c:\\users\\jirya\\appdata\\roaming\\python\\python311\\site-packages (from python-dateutil>=2.5.3->ibm-watson) (1.16.0)\n",
      "Requirement already satisfied: charset-normalizer<4,>=2 in c:\\programdata\\anaconda3\\lib\\site-packages (from requests<3.0,>=2.0->ibm-watson) (2.0.4)\n",
      "Requirement already satisfied: idna<4,>=2.5 in c:\\programdata\\anaconda3\\lib\\site-packages (from requests<3.0,>=2.0->ibm-watson) (3.4)\n",
      "Requirement already satisfied: certifi>=2017.4.17 in c:\\programdata\\anaconda3\\lib\\site-packages (from requests<3.0,>=2.0->ibm-watson) (2024.2.2)\n"
     ]
    }
   ],
   "source": [
    "!pip install ibm-watson"
   ]
  },
  {
   "cell_type": "code",
   "execution_count": 1,
   "id": "e5f271ac-e1b2-490f-b85d-32ca03e90fc9",
   "metadata": {},
   "outputs": [],
   "source": [
    "apikey = '0siL-VbsNdV0uyx4P67YP4EQyTtJAj9Kq8fRlxNsIIa-'\n",
    "url = 'https://api.au-syd.text-to-speech.watson.cloud.ibm.com/instances/cd3042a7-88cb-4654-96e5-5befc028aff8'"
   ]
  },
  {
   "cell_type": "code",
   "execution_count": 2,
   "id": "018308aa-b45c-404b-8a8d-2107378f427c",
   "metadata": {},
   "outputs": [],
   "source": [
    "from ibm_watson import TextToSpeechV1\n",
    "from ibm_cloud_sdk_core.authenticators import IAMAuthenticator"
   ]
  },
  {
   "cell_type": "code",
   "execution_count": 3,
   "id": "05067559-9b8f-4cdd-94cc-06b76fe11f6f",
   "metadata": {},
   "outputs": [],
   "source": [
    "#Setup Service\n",
    "authenticator = IAMAuthenticator(apikey)\n",
    "# New TTS Service\n",
    "tts = TextToSpeechV1(authenticator = authenticator)\n",
    "# Set Service URL\n",
    "tts.set_service_url(url)"
   ]
  },
  {
   "cell_type": "code",
   "execution_count": 33,
   "id": "20d2182b-598d-4b75-93fd-8908e3898b70",
   "metadata": {},
   "outputs": [],
   "source": [
    "with open('./speech1.mp3', 'wb') as audio_file :\n",
    "    res = tts.synthesize('Hello Guyss Wonderful Moment World!', accept = 'audio/mp3', voice = 'en-US_AllisonV3Voice').get_result()\n",
    "    audio_file.write(res.content)"
   ]
  },
  {
   "cell_type": "code",
   "execution_count": 8,
   "id": "3e5650eb-78e4-4567-81f8-9d851665e21c",
   "metadata": {},
   "outputs": [],
   "source": [
    "with open('oke.txt', 'r') as f:\n",
    "    text = f.readlines()"
   ]
  },
  {
   "cell_type": "code",
   "execution_count": 9,
   "id": "12d8b511-2353-459f-ad7e-ae3027e6bf9c",
   "metadata": {},
   "outputs": [
    {
     "data": {
      "text/plain": [
       "[\"Thomas Alva Edison was an American inventor who held a world-record 1,093 patents and created the world's first industrial research laboratory. He was born on February 11, 1847 in Milan, Ohio, the seventh and last child of Samuel and Nancy Edison. He had very little formal schooling and set up a laboratory in his father's basement at age 1014. He moved to Michigan with his family when he was seven and started earning money selling newspapers and candy on trains at 12. He invented groundbreaking technology, including the lightbulb and the phonograph, and was considered the face of technology and progress in the late 19th and early 20th centuries. He died on October 18, 1931 in West Orange, New Jersey.\"]"
      ]
     },
     "execution_count": 9,
     "metadata": {},
     "output_type": "execute_result"
    }
   ],
   "source": [
    "text"
   ]
  },
  {
   "cell_type": "code",
   "execution_count": 12,
   "id": "6ab72c0a-3e7f-407c-b05f-5a2b26e361dd",
   "metadata": {},
   "outputs": [],
   "source": [
    "text = [line.replace('\\n', '') for line in text]\n",
    "text = ''.join(str(line)for line in text)"
   ]
  },
  {
   "cell_type": "code",
   "execution_count": 13,
   "id": "0e4ccf53-e902-4c77-ba9f-3d66b8838225",
   "metadata": {},
   "outputs": [],
   "source": [
    "with open('./thomas.mp3', 'wb') as audio_file :\n",
    "    res = tts.synthesize(text, accept = 'audio/mp3', voice = 'en-US_LisaV3Voice').get_result()\n",
    "    audio_file.write(res.content)"
   ]
  },
  {
   "cell_type": "code",
   "execution_count": 16,
   "id": "4fb62608-887b-4812-be7d-1eb4aa1d802f",
   "metadata": {},
   "outputs": [
    {
     "data": {
      "text/plain": [
       "0"
      ]
     },
     "execution_count": 16,
     "metadata": {},
     "output_type": "execute_result"
    }
   ],
   "source": [
    "import vlc\n",
    "p = vlc.MediaPlayer('./thomas.mp3')\n",
    "p.play()"
   ]
  },
  {
   "cell_type": "code",
   "execution_count": 17,
   "id": "dc90ad6b-2d1e-47e0-89cc-73a0b304c67d",
   "metadata": {},
   "outputs": [],
   "source": [
    "p.stop()"
   ]
  },
  {
   "cell_type": "code",
   "execution_count": 18,
   "id": "2c1bbe58-04a6-4a0f-84f9-e50e78047563",
   "metadata": {},
   "outputs": [],
   "source": [
    "voice = 'de-DE_DieterV3Voice'"
   ]
  },
  {
   "cell_type": "code",
   "execution_count": 19,
   "id": "46511ecb-9bde-4a2c-b2c9-a8bbda0a834f",
   "metadata": {},
   "outputs": [],
   "source": [
    "frere = \"Wir sind Ihre Ansprechpartner für Deutschkurse, DaF-Lehrerfortbildung und Interkulturelle Kommunikation in Bayreuth. Ein breit gefächertes Angebot aus Deutschkursen – intensiv, berufs- oder studienbegleitend, prüfungsvorbereitend, online oder in Präsenz – bietet für jeden Bedarf das Richtige. Fortbildungen für Deutschlehrer und Interkulturelle Trainings für verschiedene Zielgruppen runden unser Angebot ab. Unseren Unterricht zeichnen aktuelle Lehrmethoden und der Schwerpunkt Interkulturelle Didaktik aus. Regelmäßige Evaluationen, die Fortbildung der Lehrenden und die wissenschaftliche Begleitung durch das Fachgebiet Interkulturelle Germanistik der Universität Bayreuth garantieren eine gleichbleibend hohe Qualität.\""
   ]
  },
  {
   "cell_type": "code",
   "execution_count": 20,
   "id": "a91b89ad-5332-40d4-96e0-dc3804f44065",
   "metadata": {},
   "outputs": [],
   "source": [
    "with open('./german_example', 'wb') as audio_file :\n",
    "    res = tts.synthesize(frere, accept = 'audio/mp3', voice = voice).get_result()\n",
    "    audio_file.write(res.content)"
   ]
  },
  {
   "cell_type": "code",
   "execution_count": 29,
   "id": "f8269d3a-71e8-401d-b0b9-13cfb96b5df7",
   "metadata": {},
   "outputs": [
    {
     "data": {
      "text/plain": [
       "0"
      ]
     },
     "execution_count": 29,
     "metadata": {},
     "output_type": "execute_result"
    }
   ],
   "source": [
    "b = vlc.MediaPlayer('./german_example')\n",
    "b.play()"
   ]
  },
  {
   "cell_type": "code",
   "execution_count": 30,
   "id": "59e2cce2-d6f9-4658-8695-d8f111fd9259",
   "metadata": {},
   "outputs": [],
   "source": [
    "b.stop()"
   ]
  },
  {
   "cell_type": "code",
   "execution_count": null,
   "id": "d0b42708-7ee7-4b4f-8e62-76fb5af8d178",
   "metadata": {},
   "outputs": [],
   "source": []
  }
 ],
 "metadata": {
  "kernelspec": {
   "display_name": "Python 3 (ipykernel)",
   "language": "python",
   "name": "python3"
  },
  "language_info": {
   "codemirror_mode": {
    "name": "ipython",
    "version": 3
   },
   "file_extension": ".py",
   "mimetype": "text/x-python",
   "name": "python",
   "nbconvert_exporter": "python",
   "pygments_lexer": "ipython3",
   "version": "3.11.7"
  }
 },
 "nbformat": 4,
 "nbformat_minor": 5
}
