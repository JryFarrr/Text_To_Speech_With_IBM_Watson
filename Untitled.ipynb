{
 "cells": [
  {
   "cell_type": "markdown",
   "id": "5df7e2a3-2ec9-4a61-9590-740faffa3a8e",
   "metadata": {},
   "source": [
    "# 1. Authenticate"
   ]
  },
  {
   "cell_type": "code",
   "execution_count": 1,
   "id": "61708e2b-6663-4897-a025-f96c9ea0ed4e",
   "metadata": {},
   "outputs": [
    {
     "name": "stdout",
     "output_type": "stream",
     "text": [
      "Collecting ibm-cloud-sdk-core==3.16.0\n",
      "  Downloading ibm_cloud_sdk_core-3.16.0-py3-none-any.whl (83 kB)\n",
      "     ---------------------------------------- 0.0/83.7 kB ? eta -:--:--\n",
      "     ---- ----------------------------------- 10.2/83.7 kB ? eta -:--:--\n",
      "     ------------- ------------------------ 30.7/83.7 kB 325.1 kB/s eta 0:00:01\n",
      "     ------------------ ------------------- 41.0/83.7 kB 279.3 kB/s eta 0:00:01\n",
      "     -------------------------------------- 83.7/83.7 kB 427.0 kB/s eta 0:00:00\n",
      "Requirement already satisfied: python-dateutil<3.0.0,>=2.5.3 in c:\\users\\jirya\\appdata\\local\\packages\\pythonsoftwarefoundation.python.3.10_qbz5n2kfra8p0\\localcache\\local-packages\\python310\\site-packages (from ibm-cloud-sdk-core==3.16.0) (2.8.2)\n",
      "Collecting urllib3<2.0.0,>=1.26.0\n",
      "  Downloading urllib3-1.26.20-py2.py3-none-any.whl (144 kB)\n",
      "     ---------------------------------------- 0.0/144.2 kB ? eta -:--:--\n",
      "     ---------------- ---------------------- 61.4/144.2 kB 3.2 MB/s eta 0:00:01\n",
      "     ---------------- ---------------------- 61.4/144.2 kB 3.2 MB/s eta 0:00:01\n",
      "     -------------------------------------  143.4/144.2 kB 1.1 MB/s eta 0:00:01\n",
      "     ------------------------------------ 144.2/144.2 kB 853.4 kB/s eta 0:00:00\n",
      "Collecting requests<3.0.0,>=2.26.0\n",
      "  Using cached requests-2.32.3-py3-none-any.whl (64 kB)\n",
      "Collecting PyJWT<3.0.0,>=2.4.0\n",
      "  Downloading PyJWT-2.9.0-py3-none-any.whl (22 kB)\n",
      "Requirement already satisfied: six>=1.5 in c:\\users\\jirya\\appdata\\local\\packages\\pythonsoftwarefoundation.python.3.10_qbz5n2kfra8p0\\localcache\\local-packages\\python310\\site-packages (from python-dateutil<3.0.0,>=2.5.3->ibm-cloud-sdk-core==3.16.0) (1.16.0)\n",
      "Collecting charset-normalizer<4,>=2\n",
      "  Using cached charset_normalizer-3.3.2-cp310-cp310-win_amd64.whl (100 kB)\n",
      "Collecting idna<4,>=2.5\n",
      "  Downloading idna-3.8-py3-none-any.whl (66 kB)\n",
      "     ---------------------------------------- 0.0/66.9 kB ? eta -:--:--\n",
      "     ---------------------------------------- 66.9/66.9 kB 1.8 MB/s eta 0:00:00\n",
      "Collecting certifi>=2017.4.17\n",
      "  Downloading certifi-2024.8.30-py3-none-any.whl (167 kB)\n",
      "     ---------------------------------------- 0.0/167.3 kB ? eta -:--:--\n",
      "     --------- ----------------------------- 41.0/167.3 kB 1.9 MB/s eta 0:00:01\n",
      "     --------------------------- ---------- 122.9/167.3 kB 1.4 MB/s eta 0:00:01\n",
      "     -------------------------------- ----- 143.4/167.3 kB 1.2 MB/s eta 0:00:01\n",
      "     -------------------------------- ----- 143.4/167.3 kB 1.2 MB/s eta 0:00:01\n",
      "     ------------------------------------ 167.3/167.3 kB 773.8 kB/s eta 0:00:00\n",
      "Installing collected packages: urllib3, PyJWT, idna, charset-normalizer, certifi, requests, ibm-cloud-sdk-core\n",
      "  Attempting uninstall: urllib3\n",
      "    Found existing installation: urllib3 2.0.6\n",
      "    Uninstalling urllib3-2.0.6:\n",
      "      Successfully uninstalled urllib3-2.0.6\n",
      "Successfully installed PyJWT-2.9.0 certifi-2024.8.30 charset-normalizer-3.3.2 ibm-cloud-sdk-core-3.16.0 idna-3.8 requests-2.32.3 urllib3-1.26.20\n"
     ]
    },
    {
     "name": "stderr",
     "output_type": "stream",
     "text": [
      "\n",
      "[notice] A new release of pip is available: 23.0.1 -> 24.2\n",
      "[notice] To update, run: C:\\Users\\jirya\\AppData\\Local\\Microsoft\\WindowsApps\\PythonSoftwareFoundation.Python.3.10_qbz5n2kfra8p0\\python.exe -m pip install --upgrade pip\n"
     ]
    }
   ],
   "source": [
    "!pip install ibm-cloud-sdk-core==3.16.0"
   ]
  },
  {
   "cell_type": "code",
   "execution_count": 2,
   "id": "cc8ccad6-9a13-4d31-afd3-839c59638ccf",
   "metadata": {},
   "outputs": [
    {
     "name": "stdout",
     "output_type": "stream",
     "text": [
      "Collecting urllib3==1.26.19\n",
      "  Downloading urllib3-1.26.19-py2.py3-none-any.whl (143 kB)\n",
      "     ---------------------------------------- 0.0/143.9 kB ? eta -:--:--\n",
      "     ----------- ---------------------------- 41.0/143.9 kB ? eta -:--:--\n",
      "     ----------- ---------------------------- 41.0/143.9 kB ? eta -:--:--\n",
      "     ----------- ---------------------------- 41.0/143.9 kB ? eta -:--:--\n",
      "     ----------- ---------------------------- 41.0/143.9 kB ? eta -:--:--\n",
      "     ----------- ---------------------------- 41.0/143.9 kB ? eta -:--:--\n",
      "     ----------- ---------------------------- 41.0/143.9 kB ? eta -:--:--\n",
      "     ----------- ---------------------------- 41.0/143.9 kB ? eta -:--:--\n",
      "     ----------------------- ------------- 92.2/143.9 kB 218.5 kB/s eta 0:00:01\n",
      "     ----------------------- ------------- 92.2/143.9 kB 218.5 kB/s eta 0:00:01\n",
      "     ----------------------- ------------- 92.2/143.9 kB 218.5 kB/s eta 0:00:01\n",
      "     ----------------------- ------------- 92.2/143.9 kB 218.5 kB/s eta 0:00:01\n",
      "     ------------------------------------ 143.9/143.9 kB 237.5 kB/s eta 0:00:00\n",
      "Installing collected packages: urllib3\n",
      "  Attempting uninstall: urllib3\n",
      "    Found existing installation: urllib3 1.26.20\n",
      "    Uninstalling urllib3-1.26.20:\n",
      "      Successfully uninstalled urllib3-1.26.20\n",
      "Successfully installed urllib3-1.26.19\n"
     ]
    },
    {
     "name": "stderr",
     "output_type": "stream",
     "text": [
      "\n",
      "[notice] A new release of pip is available: 23.0.1 -> 24.2\n",
      "[notice] To update, run: C:\\Users\\jirya\\AppData\\Local\\Microsoft\\WindowsApps\\PythonSoftwareFoundation.Python.3.10_qbz5n2kfra8p0\\python.exe -m pip install --upgrade pip\n"
     ]
    },
    {
     "name": "stdout",
     "output_type": "stream",
     "text": [
      "Collecting jedi==0.18.2\n",
      "  Downloading jedi-0.18.2-py2.py3-none-any.whl (1.6 MB)\n",
      "     ---------------------------------------- 0.0/1.6 MB ? eta -:--:--\n",
      "     - -------------------------------------- 0.1/1.6 MB 1.3 MB/s eta 0:00:02\n",
      "     -- ------------------------------------- 0.1/1.6 MB 980.4 kB/s eta 0:00:02\n",
      "     --- ------------------------------------ 0.1/1.6 MB 901.1 kB/s eta 0:00:02\n",
      "     --- ------------------------------------ 0.1/1.6 MB 901.1 kB/s eta 0:00:02\n",
      "     ------ --------------------------------- 0.2/1.6 MB 1.0 MB/s eta 0:00:02\n",
      "     ------ --------------------------------- 0.2/1.6 MB 1.0 MB/s eta 0:00:02\n",
      "     --------- ------------------------------ 0.4/1.6 MB 1.1 MB/s eta 0:00:02\n",
      "     --------- ------------------------------ 0.4/1.6 MB 1.2 MB/s eta 0:00:02\n",
      "     ------------- -------------------------- 0.5/1.6 MB 1.2 MB/s eta 0:00:01\n",
      "     ------------- -------------------------- 0.5/1.6 MB 1.3 MB/s eta 0:00:01\n",
      "     -------------- ------------------------- 0.6/1.6 MB 1.1 MB/s eta 0:00:01\n",
      "     ---------------- ----------------------- 0.7/1.6 MB 1.3 MB/s eta 0:00:01\n",
      "     ----------------- ---------------------- 0.7/1.6 MB 1.2 MB/s eta 0:00:01\n",
      "     ----------------- ---------------------- 0.7/1.6 MB 1.2 MB/s eta 0:00:01\n",
      "     ----------------- ---------------------- 0.7/1.6 MB 1.2 MB/s eta 0:00:01\n",
      "     --------------------- ------------------ 0.8/1.6 MB 1.2 MB/s eta 0:00:01\n",
      "     --------------------- ------------------ 0.8/1.6 MB 1.2 MB/s eta 0:00:01\n",
      "     --------------------- ------------------ 0.8/1.6 MB 1.2 MB/s eta 0:00:01\n",
      "     ------------------------ --------------- 0.9/1.6 MB 1.1 MB/s eta 0:00:01\n",
      "     ------------------------- -------------- 1.0/1.6 MB 1.1 MB/s eta 0:00:01\n",
      "     ------------------------- -------------- 1.0/1.6 MB 1.1 MB/s eta 0:00:01\n",
      "     ---------------------------- ----------- 1.1/1.6 MB 1.1 MB/s eta 0:00:01\n",
      "     ---------------------------- ----------- 1.1/1.6 MB 1.1 MB/s eta 0:00:01\n",
      "     ------------------------------ --------- 1.2/1.6 MB 1.1 MB/s eta 0:00:01\n",
      "     ------------------------------- -------- 1.2/1.6 MB 1.1 MB/s eta 0:00:01\n",
      "     ------------------------------- -------- 1.2/1.6 MB 1.1 MB/s eta 0:00:01\n",
      "     ----------------------------------- ---- 1.4/1.6 MB 1.1 MB/s eta 0:00:01\n",
      "     ----------------------------------- ---- 1.4/1.6 MB 1.1 MB/s eta 0:00:01\n",
      "     ---------------------------------------  1.5/1.6 MB 1.2 MB/s eta 0:00:01\n",
      "     ---------------------------------------  1.5/1.6 MB 1.2 MB/s eta 0:00:01\n",
      "     ---------------------------------------- 1.6/1.6 MB 1.1 MB/s eta 0:00:00\n",
      "Requirement already satisfied: parso<0.9.0,>=0.8.0 in c:\\users\\jirya\\appdata\\local\\packages\\pythonsoftwarefoundation.python.3.10_qbz5n2kfra8p0\\localcache\\local-packages\\python310\\site-packages (from jedi==0.18.2) (0.8.3)\n",
      "Installing collected packages: jedi\n",
      "  Attempting uninstall: jedi\n",
      "    Found existing installation: jedi 0.19.0\n",
      "    Uninstalling jedi-0.19.0:\n",
      "      Successfully uninstalled jedi-0.19.0\n",
      "Successfully installed jedi-0.18.2\n"
     ]
    },
    {
     "name": "stderr",
     "output_type": "stream",
     "text": [
      "\n",
      "[notice] A new release of pip is available: 23.0.1 -> 24.2\n",
      "[notice] To update, run: C:\\Users\\jirya\\AppData\\Local\\Microsoft\\WindowsApps\\PythonSoftwareFoundation.Python.3.10_qbz5n2kfra8p0\\python.exe -m pip install --upgrade pip\n"
     ]
    }
   ],
   "source": [
    "!pip install urllib3==1.26.19\n",
    "!pip install jedi==0.18.2"
   ]
  },
  {
   "cell_type": "code",
   "execution_count": 9,
   "id": "c77dbfd3-bd20-4746-b83b-445a9e13ab40",
   "metadata": {},
   "outputs": [
    {
     "name": "stdout",
     "output_type": "stream",
     "text": [
      "Requirement already satisfied: ibm-watson in c:\\programdata\\anaconda3\\lib\\site-packages (8.1.0)\n",
      "Requirement already satisfied: requests<3.0,>=2.0 in c:\\programdata\\anaconda3\\lib\\site-packages (from ibm-watson) (2.31.0)\n",
      "Requirement already satisfied: python-dateutil>=2.5.3 in c:\\users\\jirya\\appdata\\roaming\\python\\python311\\site-packages (from ibm-watson) (2.8.2)\n",
      "Requirement already satisfied: websocket-client>=1.1.0 in c:\\programdata\\anaconda3\\lib\\site-packages (from ibm-watson) (1.8.0)\n",
      "Requirement already satisfied: ibm-cloud-sdk-core==3.*,>=3.3.6 in c:\\programdata\\anaconda3\\lib\\site-packages (from ibm-watson) (3.16.0)\n",
      "Requirement already satisfied: urllib3<2.0.0,>=1.26.0 in c:\\programdata\\anaconda3\\lib\\site-packages (from ibm-cloud-sdk-core==3.*,>=3.3.6->ibm-watson) (1.26.19)\n",
      "Requirement already satisfied: PyJWT<3.0.0,>=2.4.0 in c:\\programdata\\anaconda3\\lib\\site-packages (from ibm-cloud-sdk-core==3.*,>=3.3.6->ibm-watson) (2.9.0)\n",
      "Requirement already satisfied: six>=1.5 in c:\\users\\jirya\\appdata\\roaming\\python\\python311\\site-packages (from python-dateutil>=2.5.3->ibm-watson) (1.16.0)\n",
      "Requirement already satisfied: charset-normalizer<4,>=2 in c:\\programdata\\anaconda3\\lib\\site-packages (from requests<3.0,>=2.0->ibm-watson) (2.0.4)\n",
      "Requirement already satisfied: idna<4,>=2.5 in c:\\programdata\\anaconda3\\lib\\site-packages (from requests<3.0,>=2.0->ibm-watson) (3.4)\n",
      "Requirement already satisfied: certifi>=2017.4.17 in c:\\programdata\\anaconda3\\lib\\site-packages (from requests<3.0,>=2.0->ibm-watson) (2024.2.2)\n"
     ]
    }
   ],
   "source": [
    "!pip install ibm-watson"
   ]
  },
  {
   "cell_type": "code",
   "execution_count": 3,
   "id": "e5f271ac-e1b2-490f-b85d-32ca03e90fc9",
   "metadata": {},
   "outputs": [],
   "source": [
    "apikey = '0siL-VbsNdV0uyx4P67YP4EQyTtJAj9Kq8fRlxNsIIa-'\n",
    "url = 'https://api.au-syd.text-to-speech.watson.cloud.ibm.com/instances/cd3042a7-88cb-4654-96e5-5befc028aff8'"
   ]
  },
  {
   "cell_type": "code",
   "execution_count": 4,
   "id": "018308aa-b45c-404b-8a8d-2107378f427c",
   "metadata": {},
   "outputs": [],
   "source": [
    "from ibm_watson import TextToSpeechV1\n",
    "from ibm_cloud_sdk_core.authenticators import IAMAuthenticator"
   ]
  },
  {
   "cell_type": "code",
   "execution_count": 5,
   "id": "05067559-9b8f-4cdd-94cc-06b76fe11f6f",
   "metadata": {},
   "outputs": [],
   "source": [
    "#Setup Service\n",
    "authenticator = IAMAuthenticator(apikey)\n",
    "# New TTS Service\n",
    "tts = TextToSpeechV1(authenticator = authenticator)\n",
    "# Set Service URL\n",
    "tts.set_service_url(url)"
   ]
  },
  {
   "cell_type": "code",
   "execution_count": 7,
   "id": "3e5650eb-78e4-4567-81f8-9d851665e21c",
   "metadata": {},
   "outputs": [],
   "source": [
    "with open('oke.txt', 'r') as f:\n",
    "    text = f.readlines()"
   ]
  },
  {
   "cell_type": "code",
   "execution_count": 8,
   "id": "12d8b511-2353-459f-ad7e-ae3027e6bf9c",
   "metadata": {},
   "outputs": [
    {
     "data": {
      "text/plain": [
       "[\"Thomas Alva Edison was an American inventor who held a world-record 1,093 patents and created the world's first industrial research laboratory. He was born on February 11, 1847 in Milan, Ohio, the seventh and last child of Samuel and Nancy Edison. He had very little formal schooling and set up a laboratory in his father's basement at age 1014. He moved to Michigan with his family when he was seven and started earning money selling newspapers and candy on trains at 12. He invented groundbreaking technology, including the lightbulb and the phonograph, and was considered the face of technology and progress in the late 19th and early 20th centuries. He died on October 18, 1931 in West Orange, New Jersey.\"]"
      ]
     },
     "execution_count": 8,
     "metadata": {},
     "output_type": "execute_result"
    }
   ],
   "source": [
    "text"
   ]
  },
  {
   "cell_type": "code",
   "execution_count": 9,
   "id": "6ab72c0a-3e7f-407c-b05f-5a2b26e361dd",
   "metadata": {},
   "outputs": [],
   "source": [
    "text = [line.replace('\\n', '') for line in text]\n",
    "text = ''.join(str(line)for line in text)"
   ]
  },
  {
   "cell_type": "code",
   "execution_count": 12,
   "id": "0e4ccf53-e902-4c77-ba9f-3d66b8838225",
   "metadata": {},
   "outputs": [],
   "source": [
    "with open('./thomas.mp3', 'wb') as audio_file :\n",
    "    res = tts.synthesize(text, accept = 'audio/mp3', voice = 'en-US_LisaV3Voice').get_result()\n",
    "    audio_file.write(res.content)"
   ]
  },
  {
   "cell_type": "code",
   "execution_count": 15,
   "id": "4fb62608-887b-4812-be7d-1eb4aa1d802f",
   "metadata": {},
   "outputs": [
    {
     "data": {
      "text/plain": [
       "0"
      ]
     },
     "execution_count": 15,
     "metadata": {},
     "output_type": "execute_result"
    }
   ],
   "source": [
    "import vlc\n",
    "p = vlc.MediaPlayer('./thomas.mp3')\n",
    "p.play()"
   ]
  },
  {
   "cell_type": "code",
   "execution_count": 16,
   "id": "dc90ad6b-2d1e-47e0-89cc-73a0b304c67d",
   "metadata": {},
   "outputs": [],
   "source": [
    "p.stop()"
   ]
  },
  {
   "cell_type": "code",
   "execution_count": 17,
   "id": "2c1bbe58-04a6-4a0f-84f9-e50e78047563",
   "metadata": {},
   "outputs": [],
   "source": [
    "voice = 'de-DE_DieterV3Voice'"
   ]
  },
  {
   "cell_type": "code",
   "execution_count": 18,
   "id": "46511ecb-9bde-4a2c-b2c9-a8bbda0a834f",
   "metadata": {},
   "outputs": [],
   "source": [
    "frere = \"Wir sind Ihre Ansprechpartner für Deutschkurse, DaF-Lehrerfortbildung und Interkulturelle Kommunikation in Bayreuth. Ein breit gefächertes Angebot aus Deutschkursen – intensiv, berufs- oder studienbegleitend, prüfungsvorbereitend, online oder in Präsenz – bietet für jeden Bedarf das Richtige. Fortbildungen für Deutschlehrer und Interkulturelle Trainings für verschiedene Zielgruppen runden unser Angebot ab. Unseren Unterricht zeichnen aktuelle Lehrmethoden und der Schwerpunkt Interkulturelle Didaktik aus. Regelmäßige Evaluationen, die Fortbildung der Lehrenden und die wissenschaftliche Begleitung durch das Fachgebiet Interkulturelle Germanistik der Universität Bayreuth garantieren eine gleichbleibend hohe Qualität.\""
   ]
  },
  {
   "cell_type": "code",
   "execution_count": 19,
   "id": "a91b89ad-5332-40d4-96e0-dc3804f44065",
   "metadata": {},
   "outputs": [],
   "source": [
    "with open('./german_example', 'wb') as audio_file :\n",
    "    res = tts.synthesize(frere, accept = 'audio/mp3', voice = voice).get_result()\n",
    "    audio_file.write(res.content)"
   ]
  },
  {
   "cell_type": "code",
   "execution_count": 20,
   "id": "f8269d3a-71e8-401d-b0b9-13cfb96b5df7",
   "metadata": {},
   "outputs": [
    {
     "data": {
      "text/plain": [
       "0"
      ]
     },
     "execution_count": 20,
     "metadata": {},
     "output_type": "execute_result"
    }
   ],
   "source": [
    "b = vlc.MediaPlayer('./german_example')\n",
    "b.play()"
   ]
  },
  {
   "cell_type": "code",
   "execution_count": 21,
   "id": "59e2cce2-d6f9-4658-8695-d8f111fd9259",
   "metadata": {},
   "outputs": [],
   "source": [
    "b.stop()"
   ]
  },
  {
   "cell_type": "code",
   "execution_count": null,
   "id": "d0b42708-7ee7-4b4f-8e62-76fb5af8d178",
   "metadata": {},
   "outputs": [],
   "source": []
  }
 ],
 "metadata": {
  "kernelspec": {
   "display_name": "Python 3",
   "language": "python",
   "name": "python3"
  },
  "language_info": {
   "codemirror_mode": {
    "name": "ipython",
    "version": 3
   },
   "file_extension": ".py",
   "mimetype": "text/x-python",
   "name": "python",
   "nbconvert_exporter": "python",
   "pygments_lexer": "ipython3",
   "version": "3.10.undefined"
  }
 },
 "nbformat": 4,
 "nbformat_minor": 5
}
